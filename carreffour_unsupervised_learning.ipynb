{
 "cells": [
  {
   "cell_type": "markdown",
   "metadata": {},
   "source": [
    "# CARREFOUR UNSUPERVISED LEARNING"
   ]
  },
  {
   "cell_type": "markdown",
   "metadata": {},
   "source": [
    "## Defining The Question\n",
    " *  Use unsupervised learnign to gain insights that will inform the marketing strategy that will be undertaken by the marketing department\n",
    " \n",
    "## Metric For Success\n",
    " *  performing extensive EDA and formulating meaningful insights\n",
    " \n",
    "## The Context\n",
    " * You are a Data analyst at Carrefour Kenya and are currently undertaking a project that will inform the marketing department on the most relevant marketing strategies that will result in the highest no. of sales (total price including tax). Your project has been divided into three parts where you'll explore a recent marketing dataset by performing various unsupervised learning techniques and later providing recommendations based on your insights.\n",
    " \n",
    "## EXPERIMENTAL DESIGN TAKEN\n",
    " * Loading the libraries and datasets\n",
    " * Data Cleaning\n",
    " * EDA \n",
    " * Visualizations and Analysis\n",
    " \n",
    "## APPROPRIATENESS OF THE DATA\n",
    " * The data is divided into 4 parts and 3 different datasets \n",
    " * The first dataset contains the most features while the third one contains the least\n",
    " "
   ]
  },
  {
   "cell_type": "markdown",
   "metadata": {},
   "source": [
    "# Loading The Libraries and Datasets"
   ]
  },
  {
   "cell_type": "code",
   "execution_count": 73,
   "metadata": {
    "ExecuteTime": {
     "end_time": "2020-03-17T18:45:27.947750Z",
     "start_time": "2020-03-17T18:45:27.855Z"
    }
   },
   "outputs": [],
   "source": [
    "library(data.table)#used to create datatables\n",
    "library(moments)\n",
    "library(corrplot)#used for visualisations\n",
    "library(tidyverse)\n",
    "library(tidyr)\n",
    "library(ggplot2)\n",
    "library(rpart)\n",
    "library(\"rpart.plot\")\n",
    "library(caret)\n",
    "library(devtools)\n",
    "library(ggbiplot)\n",
    "library(arules)#used for association analysis\n",
    "library(anomalize)#used for anomaly detection\n",
    "library(tibble)\n",
    "library(factoextra)"
   ]
  },
  {
   "cell_type": "code",
   "execution_count": 74,
   "metadata": {
    "ExecuteTime": {
     "end_time": "2020-03-17T18:45:28.024544Z",
     "start_time": "2020-03-17T18:45:27.862Z"
    },
    "scrolled": true
   },
   "outputs": [
    {
     "data": {
      "text/html": [
       "<table>\n",
       "<thead><tr><th scope=col>Invoice.ID</th><th scope=col>Branch</th><th scope=col>Customer.type</th><th scope=col>Gender</th><th scope=col>Product.line</th><th scope=col>Unit.price</th><th scope=col>Quantity</th><th scope=col>Tax</th><th scope=col>Date</th><th scope=col>Time</th><th scope=col>Payment</th><th scope=col>cogs</th><th scope=col>gross.margin.percentage</th><th scope=col>gross.income</th><th scope=col>Rating</th><th scope=col>Total</th></tr></thead>\n",
       "<tbody>\n",
       "\t<tr><td>750-67-8428           </td><td>A                     </td><td>Member                </td><td>Female                </td><td>Health and beauty     </td><td>74.69                 </td><td>7                     </td><td>26.1415               </td><td>1/5/2019              </td><td>13:08                 </td><td>Ewallet               </td><td>522.83                </td><td>4.761905              </td><td>26.1415               </td><td>9.1                   </td><td>548.9715              </td></tr>\n",
       "\t<tr><td>226-31-3081           </td><td>C                     </td><td>Normal                </td><td>Female                </td><td>Electronic accessories</td><td>15.28                 </td><td>5                     </td><td> 3.8200               </td><td>3/8/2019              </td><td>10:29                 </td><td>Cash                  </td><td> 76.40                </td><td>4.761905              </td><td> 3.8200               </td><td>9.6                   </td><td> 80.2200              </td></tr>\n",
       "\t<tr><td>631-41-3108           </td><td>A                     </td><td>Normal                </td><td>Male                  </td><td>Home and lifestyle    </td><td>46.33                 </td><td>7                     </td><td>16.2155               </td><td>3/3/2019              </td><td>13:23                 </td><td>Credit card           </td><td>324.31                </td><td>4.761905              </td><td>16.2155               </td><td>7.4                   </td><td>340.5255              </td></tr>\n",
       "\t<tr><td>123-19-1176           </td><td>A                     </td><td>Member                </td><td>Male                  </td><td>Health and beauty     </td><td>58.22                 </td><td>8                     </td><td>23.2880               </td><td>1/27/2019             </td><td>20:33                 </td><td>Ewallet               </td><td>465.76                </td><td>4.761905              </td><td>23.2880               </td><td>8.4                   </td><td>489.0480              </td></tr>\n",
       "\t<tr><td>373-73-7910           </td><td>A                     </td><td>Normal                </td><td>Male                  </td><td>Sports and travel     </td><td>86.31                 </td><td>7                     </td><td>30.2085               </td><td>2/8/2019              </td><td>10:37                 </td><td>Ewallet               </td><td>604.17                </td><td>4.761905              </td><td>30.2085               </td><td>5.3                   </td><td>634.3785              </td></tr>\n",
       "\t<tr><td>699-14-3026           </td><td>C                     </td><td>Normal                </td><td>Male                  </td><td>Electronic accessories</td><td>85.39                 </td><td>7                     </td><td>29.8865               </td><td>3/25/2019             </td><td>18:30                 </td><td>Ewallet               </td><td>597.73                </td><td>4.761905              </td><td>29.8865               </td><td>4.1                   </td><td>627.6165              </td></tr>\n",
       "</tbody>\n",
       "</table>\n"
      ],
      "text/latex": [
       "\\begin{tabular}{r|llllllllllllllll}\n",
       " Invoice.ID & Branch & Customer.type & Gender & Product.line & Unit.price & Quantity & Tax & Date & Time & Payment & cogs & gross.margin.percentage & gross.income & Rating & Total\\\\\n",
       "\\hline\n",
       "\t 750-67-8428            & A                      & Member                 & Female                 & Health and beauty      & 74.69                  & 7                      & 26.1415                & 1/5/2019               & 13:08                  & Ewallet                & 522.83                 & 4.761905               & 26.1415                & 9.1                    & 548.9715              \\\\\n",
       "\t 226-31-3081            & C                      & Normal                 & Female                 & Electronic accessories & 15.28                  & 5                      &  3.8200                & 3/8/2019               & 10:29                  & Cash                   &  76.40                 & 4.761905               &  3.8200                & 9.6                    &  80.2200              \\\\\n",
       "\t 631-41-3108            & A                      & Normal                 & Male                   & Home and lifestyle     & 46.33                  & 7                      & 16.2155                & 3/3/2019               & 13:23                  & Credit card            & 324.31                 & 4.761905               & 16.2155                & 7.4                    & 340.5255              \\\\\n",
       "\t 123-19-1176            & A                      & Member                 & Male                   & Health and beauty      & 58.22                  & 8                      & 23.2880                & 1/27/2019              & 20:33                  & Ewallet                & 465.76                 & 4.761905               & 23.2880                & 8.4                    & 489.0480              \\\\\n",
       "\t 373-73-7910            & A                      & Normal                 & Male                   & Sports and travel      & 86.31                  & 7                      & 30.2085                & 2/8/2019               & 10:37                  & Ewallet                & 604.17                 & 4.761905               & 30.2085                & 5.3                    & 634.3785              \\\\\n",
       "\t 699-14-3026            & C                      & Normal                 & Male                   & Electronic accessories & 85.39                  & 7                      & 29.8865                & 3/25/2019              & 18:30                  & Ewallet                & 597.73                 & 4.761905               & 29.8865                & 4.1                    & 627.6165              \\\\\n",
       "\\end{tabular}\n"
      ],
      "text/markdown": [
       "\n",
       "| Invoice.ID | Branch | Customer.type | Gender | Product.line | Unit.price | Quantity | Tax | Date | Time | Payment | cogs | gross.margin.percentage | gross.income | Rating | Total |\n",
       "|---|---|---|---|---|---|---|---|---|---|---|---|---|---|---|---|\n",
       "| 750-67-8428            | A                      | Member                 | Female                 | Health and beauty      | 74.69                  | 7                      | 26.1415                | 1/5/2019               | 13:08                  | Ewallet                | 522.83                 | 4.761905               | 26.1415                | 9.1                    | 548.9715               |\n",
       "| 226-31-3081            | C                      | Normal                 | Female                 | Electronic accessories | 15.28                  | 5                      |  3.8200                | 3/8/2019               | 10:29                  | Cash                   |  76.40                 | 4.761905               |  3.8200                | 9.6                    |  80.2200               |\n",
       "| 631-41-3108            | A                      | Normal                 | Male                   | Home and lifestyle     | 46.33                  | 7                      | 16.2155                | 3/3/2019               | 13:23                  | Credit card            | 324.31                 | 4.761905               | 16.2155                | 7.4                    | 340.5255               |\n",
       "| 123-19-1176            | A                      | Member                 | Male                   | Health and beauty      | 58.22                  | 8                      | 23.2880                | 1/27/2019              | 20:33                  | Ewallet                | 465.76                 | 4.761905               | 23.2880                | 8.4                    | 489.0480               |\n",
       "| 373-73-7910            | A                      | Normal                 | Male                   | Sports and travel      | 86.31                  | 7                      | 30.2085                | 2/8/2019               | 10:37                  | Ewallet                | 604.17                 | 4.761905               | 30.2085                | 5.3                    | 634.3785               |\n",
       "| 699-14-3026            | C                      | Normal                 | Male                   | Electronic accessories | 85.39                  | 7                      | 29.8865                | 3/25/2019              | 18:30                  | Ewallet                | 597.73                 | 4.761905               | 29.8865                | 4.1                    | 627.6165               |\n",
       "\n"
      ],
      "text/plain": [
       "  Invoice.ID  Branch Customer.type Gender Product.line           Unit.price\n",
       "1 750-67-8428 A      Member        Female Health and beauty      74.69     \n",
       "2 226-31-3081 C      Normal        Female Electronic accessories 15.28     \n",
       "3 631-41-3108 A      Normal        Male   Home and lifestyle     46.33     \n",
       "4 123-19-1176 A      Member        Male   Health and beauty      58.22     \n",
       "5 373-73-7910 A      Normal        Male   Sports and travel      86.31     \n",
       "6 699-14-3026 C      Normal        Male   Electronic accessories 85.39     \n",
       "  Quantity Tax     Date      Time  Payment     cogs   gross.margin.percentage\n",
       "1 7        26.1415 1/5/2019  13:08 Ewallet     522.83 4.761905               \n",
       "2 5         3.8200 3/8/2019  10:29 Cash         76.40 4.761905               \n",
       "3 7        16.2155 3/3/2019  13:23 Credit card 324.31 4.761905               \n",
       "4 8        23.2880 1/27/2019 20:33 Ewallet     465.76 4.761905               \n",
       "5 7        30.2085 2/8/2019  10:37 Ewallet     604.17 4.761905               \n",
       "6 7        29.8865 3/25/2019 18:30 Ewallet     597.73 4.761905               \n",
       "  gross.income Rating Total   \n",
       "1 26.1415      9.1    548.9715\n",
       "2  3.8200      9.6     80.2200\n",
       "3 16.2155      7.4    340.5255\n",
       "4 23.2880      8.4    489.0480\n",
       "5 30.2085      5.3    634.3785\n",
       "6 29.8865      4.1    627.6165"
      ]
     },
     "metadata": {},
     "output_type": "display_data"
    }
   ],
   "source": [
    "dimension <- read.csv(\"Supermarket_Dataset_1 - Sales Data.csv\")\n",
    "dimension <- data.frame(dimension)\n",
    "head(dimension)"
   ]
  },
  {
   "cell_type": "markdown",
   "metadata": {},
   "source": [
    "* The above dataset will be used to perform dimensionality reduction and feature selection \n",
    "* They appear to be transactions by unique users in the store recording the type of product bought,the total amount spent,the gross income recieved as well as the gross relative income,the quantity,branch involved and gender"
   ]
  },
  {
   "cell_type": "code",
   "execution_count": 75,
   "metadata": {
    "ExecuteTime": {
     "end_time": "2020-03-17T18:45:29.036870Z",
     "start_time": "2020-03-17T18:45:27.869Z"
    },
    "scrolled": true
   },
   "outputs": [
    {
     "name": "stderr",
     "output_type": "stream",
     "text": [
      "Warning message in asMethod(object):\n",
      "\"removing duplicated items in transactions\""
     ]
    },
    {
     "data": {
      "text/plain": [
       "transactions in sparse format with\n",
       " 7501 transactions (rows) and\n",
       " 119 items (columns)"
      ]
     },
     "metadata": {},
     "output_type": "display_data"
    }
   ],
   "source": [
    "association <- read.transactions(\"Supermarket_Sales_Dataset II.csv\",sep=\",\")b\n",
    "association"
   ]
  },
  {
   "cell_type": "markdown",
   "metadata": {},
   "source": [
    "* The association file contains 7,501 rows and 119 columns"
   ]
  },
  {
   "cell_type": "code",
   "execution_count": 76,
   "metadata": {
    "ExecuteTime": {
     "end_time": "2020-03-17T18:45:29.099667Z",
     "start_time": "2020-03-17T18:45:27.874Z"
    }
   },
   "outputs": [
    {
     "data": {
      "text/html": [
       "<table>\n",
       "<thead><tr><th scope=col>Date</th><th scope=col>Sales</th></tr></thead>\n",
       "<tbody>\n",
       "\t<tr><td>1/5/2019 </td><td>548.9715 </td></tr>\n",
       "\t<tr><td>3/8/2019 </td><td> 80.2200 </td></tr>\n",
       "\t<tr><td>3/3/2019 </td><td>340.5255 </td></tr>\n",
       "\t<tr><td>1/27/2019</td><td>489.0480 </td></tr>\n",
       "\t<tr><td>2/8/2019 </td><td>634.3785 </td></tr>\n",
       "\t<tr><td>3/25/2019</td><td>627.6165 </td></tr>\n",
       "</tbody>\n",
       "</table>\n"
      ],
      "text/latex": [
       "\\begin{tabular}{r|ll}\n",
       " Date & Sales\\\\\n",
       "\\hline\n",
       "\t 1/5/2019  & 548.9715 \\\\\n",
       "\t 3/8/2019  &  80.2200 \\\\\n",
       "\t 3/3/2019  & 340.5255 \\\\\n",
       "\t 1/27/2019 & 489.0480 \\\\\n",
       "\t 2/8/2019  & 634.3785 \\\\\n",
       "\t 3/25/2019 & 627.6165 \\\\\n",
       "\\end{tabular}\n"
      ],
      "text/markdown": [
       "\n",
       "| Date | Sales |\n",
       "|---|---|\n",
       "| 1/5/2019  | 548.9715  |\n",
       "| 3/8/2019  |  80.2200  |\n",
       "| 3/3/2019  | 340.5255  |\n",
       "| 1/27/2019 | 489.0480  |\n",
       "| 2/8/2019  | 634.3785  |\n",
       "| 3/25/2019 | 627.6165  |\n",
       "\n"
      ],
      "text/plain": [
       "  Date      Sales   \n",
       "1 1/5/2019  548.9715\n",
       "2 3/8/2019   80.2200\n",
       "3 3/3/2019  340.5255\n",
       "4 1/27/2019 489.0480\n",
       "5 2/8/2019  634.3785\n",
       "6 3/25/2019 627.6165"
      ]
     },
     "metadata": {},
     "output_type": "display_data"
    }
   ],
   "source": [
    "anomalies <- read.csv(\"Supermarket_Sales_Forecasting - Sales.csv\")\n",
    "anomalies <- data.frame(anomalies)\n",
    "head(anomalies)"
   ]
  },
  {
   "cell_type": "markdown",
   "metadata": {},
   "source": [
    "* We will be performing anomaly detection on this dataset which consists of the sales made on specific days "
   ]
  },
  {
   "cell_type": "markdown",
   "metadata": {},
   "source": [
    "# Data Cleaning and Exploration\n",
    "\n",
    "## Calculating null values and duplicated data"
   ]
  },
  {
   "cell_type": "code",
   "execution_count": 77,
   "metadata": {
    "ExecuteTime": {
     "end_time": "2020-03-17T18:45:29.159511Z",
     "start_time": "2020-03-17T18:45:27.879Z"
    }
   },
   "outputs": [
    {
     "name": "stdout",
     "output_type": "stream",
     "text": [
      "[1] 1000   16\n",
      "[1] 1000    2\n",
      "[1] 7501  119\n"
     ]
    }
   ],
   "source": [
    "print(dim(dimension))\n",
    "\n",
    "print(dim(anomalies))\n",
    "\n",
    "print(dim(association))"
   ]
  },
  {
   "cell_type": "markdown",
   "metadata": {},
   "source": [
    "* The first two datasets contain 1000 rows each with the first one containing 16 columns and the second one 2 columns while the third dataset contains 119 columns and 7501 rows"
   ]
  },
  {
   "cell_type": "code",
   "execution_count": 78,
   "metadata": {
    "ExecuteTime": {
     "end_time": "2020-03-17T18:45:29.214362Z",
     "start_time": "2020-03-17T18:45:27.884Z"
    }
   },
   "outputs": [
    {
     "name": "stdout",
     "output_type": "stream",
     "text": [
      "             Invoice.ID                  Branch           Customer.type \n",
      "                      0                       0                       0 \n",
      "                 Gender            Product.line              Unit.price \n",
      "                      0                       0                       0 \n",
      "               Quantity                     Tax                    Date \n",
      "                      0                       0                       0 \n",
      "                   Time                 Payment                    cogs \n",
      "                      0                       0                       0 \n",
      "gross.margin.percentage            gross.income                  Rating \n",
      "                      0                       0                       0 \n",
      "                  Total \n",
      "                      0 \n",
      "[1] \"###########################################################################\"\n",
      " Date Sales \n",
      "    0     0 \n",
      "[1] \"###########################################################################\"\n"
     ]
    }
   ],
   "source": [
    "print(colSums(is.na(dimension)))\n",
    "print(\"###########################################################################\")\n",
    "print(colSums(is.na(anomalies)))\n",
    "print(\"###########################################################################\")\n",
    "# print(colSums(is.na(association)))"
   ]
  },
  {
   "cell_type": "markdown",
   "metadata": {},
   "source": [
    "* The datasets do not contain any null values,the datasets appear to be very clean and usable"
   ]
  },
  {
   "cell_type": "code",
   "execution_count": 79,
   "metadata": {
    "ExecuteTime": {
     "end_time": "2020-03-17T18:45:29.274204Z",
     "start_time": "2020-03-17T18:45:27.889Z"
    }
   },
   "outputs": [
    {
     "name": "stdout",
     "output_type": "stream",
     "text": [
      "[1] 1000    0\n",
      "[1] 1000    0\n"
     ]
    }
   ],
   "source": [
    "print(dim(dimension[duplicated(dimension)]))\n",
    "                    \n",
    "print(dim(anomalies[duplicated(anomalies)]))\n",
    "                                   "
   ]
  },
  {
   "cell_type": "markdown",
   "metadata": {},
   "source": [
    "* The datasets do not contain any duplicated rows either,we will not be conducting any imputation or dropping any rows from any dataset"
   ]
  },
  {
   "cell_type": "code",
   "execution_count": 129,
   "metadata": {
    "ExecuteTime": {
     "end_time": "2020-03-17T19:47:58.811847Z",
     "start_time": "2020-03-17T19:47:58.762Z"
    }
   },
   "outputs": [
    {
     "name": "stdout",
     "output_type": "stream",
     "text": [
      "             Invoice.ID                  Branch           Customer.type \n",
      "               \"factor\"                \"factor\"                \"factor\" \n",
      "                 Gender            Product.line              Unit.price \n",
      "               \"factor\"                \"factor\"               \"numeric\" \n",
      "               Quantity                     Tax                    Date \n",
      "              \"integer\"               \"numeric\"                  \"Date\" \n",
      "                   Time                 Payment                    cogs \n",
      "               \"factor\"                \"factor\"               \"numeric\" \n",
      "gross.margin.percentage            gross.income                  Rating \n",
      "              \"numeric\"               \"numeric\"               \"numeric\" \n",
      "                  Total \n",
      "              \"numeric\" \n",
      "[1] \"###########################################################################################\"\n",
      "     Date     Sales \n",
      "   \"Date\" \"numeric\" \n"
     ]
    }
   ],
   "source": [
    "print(sapply(dimension,class))\n",
    "print(\"###########################################################################################\")\n",
    "print(sapply(anomalies,class))"
   ]
  },
  {
   "cell_type": "markdown",
   "metadata": {},
   "source": [
    "* The major datatypes across all columns are numeric and character type"
   ]
  },
  {
   "cell_type": "markdown",
   "metadata": {},
   "source": [
    "## Checking for outliers"
   ]
  },
  {
   "cell_type": "code",
   "execution_count": 81,
   "metadata": {
    "ExecuteTime": {
     "end_time": "2020-03-17T18:45:29.380920Z",
     "start_time": "2020-03-17T18:45:27.899Z"
    }
   },
   "outputs": [
    {
     "data": {
      "text/html": [
       "<dl class=dl-horizontal>\n",
       "\t<dt>Invoice.ID</dt>\n",
       "\t\t<dd>'factor'</dd>\n",
       "\t<dt>Branch</dt>\n",
       "\t\t<dd>'factor'</dd>\n",
       "\t<dt>Customer.type</dt>\n",
       "\t\t<dd>'factor'</dd>\n",
       "\t<dt>Gender</dt>\n",
       "\t\t<dd>'factor'</dd>\n",
       "\t<dt>Product.line</dt>\n",
       "\t\t<dd>'factor'</dd>\n",
       "\t<dt>Unit.price</dt>\n",
       "\t\t<dd>'numeric'</dd>\n",
       "\t<dt>Quantity</dt>\n",
       "\t\t<dd>'integer'</dd>\n",
       "\t<dt>Tax</dt>\n",
       "\t\t<dd>'numeric'</dd>\n",
       "\t<dt>Date</dt>\n",
       "\t\t<dd>'factor'</dd>\n",
       "\t<dt>Time</dt>\n",
       "\t\t<dd>'factor'</dd>\n",
       "\t<dt>Payment</dt>\n",
       "\t\t<dd>'factor'</dd>\n",
       "\t<dt>cogs</dt>\n",
       "\t\t<dd>'numeric'</dd>\n",
       "\t<dt>gross.margin.percentage</dt>\n",
       "\t\t<dd>'numeric'</dd>\n",
       "\t<dt>gross.income</dt>\n",
       "\t\t<dd>'numeric'</dd>\n",
       "\t<dt>Rating</dt>\n",
       "\t\t<dd>'numeric'</dd>\n",
       "\t<dt>Total</dt>\n",
       "\t\t<dd>'numeric'</dd>\n",
       "</dl>\n"
      ],
      "text/latex": [
       "\\begin{description*}\n",
       "\\item[Invoice.ID] 'factor'\n",
       "\\item[Branch] 'factor'\n",
       "\\item[Customer.type] 'factor'\n",
       "\\item[Gender] 'factor'\n",
       "\\item[Product.line] 'factor'\n",
       "\\item[Unit.price] 'numeric'\n",
       "\\item[Quantity] 'integer'\n",
       "\\item[Tax] 'numeric'\n",
       "\\item[Date] 'factor'\n",
       "\\item[Time] 'factor'\n",
       "\\item[Payment] 'factor'\n",
       "\\item[cogs] 'numeric'\n",
       "\\item[gross.margin.percentage] 'numeric'\n",
       "\\item[gross.income] 'numeric'\n",
       "\\item[Rating] 'numeric'\n",
       "\\item[Total] 'numeric'\n",
       "\\end{description*}\n"
      ],
      "text/markdown": [
       "Invoice.ID\n",
       ":   'factor'Branch\n",
       ":   'factor'Customer.type\n",
       ":   'factor'Gender\n",
       ":   'factor'Product.line\n",
       ":   'factor'Unit.price\n",
       ":   'numeric'Quantity\n",
       ":   'integer'Tax\n",
       ":   'numeric'Date\n",
       ":   'factor'Time\n",
       ":   'factor'Payment\n",
       ":   'factor'cogs\n",
       ":   'numeric'gross.margin.percentage\n",
       ":   'numeric'gross.income\n",
       ":   'numeric'Rating\n",
       ":   'numeric'Total\n",
       ":   'numeric'\n",
       "\n"
      ],
      "text/plain": [
       "             Invoice.ID                  Branch           Customer.type \n",
       "               \"factor\"                \"factor\"                \"factor\" \n",
       "                 Gender            Product.line              Unit.price \n",
       "               \"factor\"                \"factor\"               \"numeric\" \n",
       "               Quantity                     Tax                    Date \n",
       "              \"integer\"               \"numeric\"                \"factor\" \n",
       "                   Time                 Payment                    cogs \n",
       "               \"factor\"                \"factor\"               \"numeric\" \n",
       "gross.margin.percentage            gross.income                  Rating \n",
       "              \"numeric\"               \"numeric\"               \"numeric\" \n",
       "                  Total \n",
       "              \"numeric\" "
      ]
     },
     "metadata": {},
     "output_type": "display_data"
    }
   ],
   "source": [
    "sapply(dimension,class)"
   ]
  },
  {
   "cell_type": "markdown",
   "metadata": {},
   "source": [
    "* checking the datatypes for the dimensions dataframe to single out the numerical and integer columns to subset them and create boxplots to detect outliers"
   ]
  },
  {
   "cell_type": "code",
   "execution_count": 82,
   "metadata": {
    "ExecuteTime": {
     "end_time": "2020-03-17T18:45:29.419812Z",
     "start_time": "2020-03-17T18:45:27.904Z"
    }
   },
   "outputs": [],
   "source": [
    "dim_numerical <- dimension[,c(6,7,8,12,13,14,15,16)]"
   ]
  },
  {
   "cell_type": "markdown",
   "metadata": {},
   "source": [
    "* creating a new dataframe with only numerical columns"
   ]
  },
  {
   "cell_type": "code",
   "execution_count": 83,
   "metadata": {
    "ExecuteTime": {
     "end_time": "2020-03-17T18:45:29.604319Z",
     "start_time": "2020-03-17T18:45:27.911Z"
    },
    "scrolled": false
   },
   "outputs": [
    {
     "data": {
      "image/png": "[encoded data removed]",
      "text/plain": [
       "Plot with title \"Total\""
      ]
     },
     "metadata": {},
     "output_type": "display_data"
    }
   ],
   "source": [
    "par(mfrow=c(2,4))\n",
    "for(i in 1:8){\n",
    "    boxplot (dim_numerical[,i],main = names(dim_numerical)[i],col= \"green\")}"
   ]
  },
  {
   "cell_type": "markdown",
   "metadata": {},
   "source": [
    "* we have been able to detect some outliers in the gross income,cogs,Total and Tax columns \n",
    "* we will not exclude these outliers as we are an exploratory unsupervised learning techique that is meant to yield insights\n",
    "* The outliers also do not appear to affect or skew the data to an extreme proportion "
   ]
  },
  {
   "cell_type": "code",
   "execution_count": 84,
   "metadata": {
    "ExecuteTime": {
     "end_time": "2020-03-17T18:45:29.689093Z",
     "start_time": "2020-03-17T18:45:27.916Z"
    }
   },
   "outputs": [
    {
     "data": {
      "image/png": "[encoded data removed]",
      "text/plain": [
       "Plot with title \"Boxplot for sales\""
      ]
     },
     "metadata": {},
     "output_type": "display_data"
    }
   ],
   "source": [
    "boxplot(anomalies$Sales,\n",
    "       main = \"Boxplot for sales\",\n",
    "       col = c(\"darkorchid\"))"
   ]
  },
  {
   "cell_type": "markdown",
   "metadata": {},
   "source": [
    "* The sales column in the anomalies dataframe does have columns of the upper percentile,we will not remove these outliers as they do not affect the quality of the data\n"
   ]
  },
  {
   "cell_type": "markdown",
   "metadata": {},
   "source": [
    "# Exploratory Data Analysis"
   ]
  },
  {
   "cell_type": "markdown",
   "metadata": {},
   "source": [
    "## Univariate Analysis"
   ]
  },
  {
   "cell_type": "code",
   "execution_count": 85,
   "metadata": {
    "ExecuteTime": {
     "end_time": "2020-03-17T18:45:29.750928Z",
     "start_time": "2020-03-17T18:45:27.925Z"
    },
    "scrolled": true
   },
   "outputs": [
    {
     "data": {
      "text/html": [
       "<table>\n",
       "<thead><tr><th scope=col>Invoice.ID</th><th scope=col>Branch</th><th scope=col>Customer.type</th><th scope=col>Gender</th><th scope=col>Product.line</th><th scope=col>Unit.price</th><th scope=col>Quantity</th><th scope=col>Tax</th><th scope=col>Date</th><th scope=col>Time</th><th scope=col>Payment</th><th scope=col>cogs</th><th scope=col>gross.margin.percentage</th><th scope=col>gross.income</th><th scope=col>Rating</th><th scope=col>Total</th></tr></thead>\n",
       "<tbody>\n",
       "\t<tr><td>750-67-8428           </td><td>A                     </td><td>Member                </td><td>Female                </td><td>Health and beauty     </td><td>74.69                 </td><td>7                     </td><td>26.1415               </td><td>1/5/2019              </td><td>13:08                 </td><td>Ewallet               </td><td>522.83                </td><td>4.761905              </td><td>26.1415               </td><td>9.1                   </td><td>548.9715              </td></tr>\n",
       "\t<tr><td>226-31-3081           </td><td>C                     </td><td>Normal                </td><td>Female                </td><td>Electronic accessories</td><td>15.28                 </td><td>5                     </td><td> 3.8200               </td><td>3/8/2019              </td><td>10:29                 </td><td>Cash                  </td><td> 76.40                </td><td>4.761905              </td><td> 3.8200               </td><td>9.6                   </td><td> 80.2200              </td></tr>\n",
       "\t<tr><td>631-41-3108           </td><td>A                     </td><td>Normal                </td><td>Male                  </td><td>Home and lifestyle    </td><td>46.33                 </td><td>7                     </td><td>16.2155               </td><td>3/3/2019              </td><td>13:23                 </td><td>Credit card           </td><td>324.31                </td><td>4.761905              </td><td>16.2155               </td><td>7.4                   </td><td>340.5255              </td></tr>\n",
       "\t<tr><td>123-19-1176           </td><td>A                     </td><td>Member                </td><td>Male                  </td><td>Health and beauty     </td><td>58.22                 </td><td>8                     </td><td>23.2880               </td><td>1/27/2019             </td><td>20:33                 </td><td>Ewallet               </td><td>465.76                </td><td>4.761905              </td><td>23.2880               </td><td>8.4                   </td><td>489.0480              </td></tr>\n",
       "\t<tr><td>373-73-7910           </td><td>A                     </td><td>Normal                </td><td>Male                  </td><td>Sports and travel     </td><td>86.31                 </td><td>7                     </td><td>30.2085               </td><td>2/8/2019              </td><td>10:37                 </td><td>Ewallet               </td><td>604.17                </td><td>4.761905              </td><td>30.2085               </td><td>5.3                   </td><td>634.3785              </td></tr>\n",
       "\t<tr><td>699-14-3026           </td><td>C                     </td><td>Normal                </td><td>Male                  </td><td>Electronic accessories</td><td>85.39                 </td><td>7                     </td><td>29.8865               </td><td>3/25/2019             </td><td>18:30                 </td><td>Ewallet               </td><td>597.73                </td><td>4.761905              </td><td>29.8865               </td><td>4.1                   </td><td>627.6165              </td></tr>\n",
       "</tbody>\n",
       "</table>\n"
      ],
      "text/latex": [
       "\\begin{tabular}{r|llllllllllllllll}\n",
       " Invoice.ID & Branch & Customer.type & Gender & Product.line & Unit.price & Quantity & Tax & Date & Time & Payment & cogs & gross.margin.percentage & gross.income & Rating & Total\\\\\n",
       "\\hline\n",
       "\t 750-67-8428            & A                      & Member                 & Female                 & Health and beauty      & 74.69                  & 7                      & 26.1415                & 1/5/2019               & 13:08                  & Ewallet                & 522.83                 & 4.761905               & 26.1415                & 9.1                    & 548.9715              \\\\\n",
       "\t 226-31-3081            & C                      & Normal                 & Female                 & Electronic accessories & 15.28                  & 5                      &  3.8200                & 3/8/2019               & 10:29                  & Cash                   &  76.40                 & 4.761905               &  3.8200                & 9.6                    &  80.2200              \\\\\n",
       "\t 631-41-3108            & A                      & Normal                 & Male                   & Home and lifestyle     & 46.33                  & 7                      & 16.2155                & 3/3/2019               & 13:23                  & Credit card            & 324.31                 & 4.761905               & 16.2155                & 7.4                    & 340.5255              \\\\\n",
       "\t 123-19-1176            & A                      & Member                 & Male                   & Health and beauty      & 58.22                  & 8                      & 23.2880                & 1/27/2019              & 20:33                  & Ewallet                & 465.76                 & 4.761905               & 23.2880                & 8.4                    & 489.0480              \\\\\n",
       "\t 373-73-7910            & A                      & Normal                 & Male                   & Sports and travel      & 86.31                  & 7                      & 30.2085                & 2/8/2019               & 10:37                  & Ewallet                & 604.17                 & 4.761905               & 30.2085                & 5.3                    & 634.3785              \\\\\n",
       "\t 699-14-3026            & C                      & Normal                 & Male                   & Electronic accessories & 85.39                  & 7                      & 29.8865                & 3/25/2019              & 18:30                  & Ewallet                & 597.73                 & 4.761905               & 29.8865                & 4.1                    & 627.6165              \\\\\n",
       "\\end{tabular}\n"
      ],
      "text/markdown": [
       "\n",
       "| Invoice.ID | Branch | Customer.type | Gender | Product.line | Unit.price | Quantity | Tax | Date | Time | Payment | cogs | gross.margin.percentage | gross.income | Rating | Total |\n",
       "|---|---|---|---|---|---|---|---|---|---|---|---|---|---|---|---|\n",
       "| 750-67-8428            | A                      | Member                 | Female                 | Health and beauty      | 74.69                  | 7                      | 26.1415                | 1/5/2019               | 13:08                  | Ewallet                | 522.83                 | 4.761905               | 26.1415                | 9.1                    | 548.9715               |\n",
       "| 226-31-3081            | C                      | Normal                 | Female                 | Electronic accessories | 15.28                  | 5                      |  3.8200                | 3/8/2019               | 10:29                  | Cash                   |  76.40                 | 4.761905               |  3.8200                | 9.6                    |  80.2200               |\n",
       "| 631-41-3108            | A                      | Normal                 | Male                   | Home and lifestyle     | 46.33                  | 7                      | 16.2155                | 3/3/2019               | 13:23                  | Credit card            | 324.31                 | 4.761905               | 16.2155                | 7.4                    | 340.5255               |\n",
       "| 123-19-1176            | A                      | Member                 | Male                   | Health and beauty      | 58.22                  | 8                      | 23.2880                | 1/27/2019              | 20:33                  | Ewallet                | 465.76                 | 4.761905               | 23.2880                | 8.4                    | 489.0480               |\n",
       "| 373-73-7910            | A                      | Normal                 | Male                   | Sports and travel      | 86.31                  | 7                      | 30.2085                | 2/8/2019               | 10:37                  | Ewallet                | 604.17                 | 4.761905               | 30.2085                | 5.3                    | 634.3785               |\n",
       "| 699-14-3026            | C                      | Normal                 | Male                   | Electronic accessories | 85.39                  | 7                      | 29.8865                | 3/25/2019              | 18:30                  | Ewallet                | 597.73                 | 4.761905               | 29.8865                | 4.1                    | 627.6165               |\n",
       "\n"
      ],
      "text/plain": [
       "  Invoice.ID  Branch Customer.type Gender Product.line           Unit.price\n",
       "1 750-67-8428 A      Member        Female Health and beauty      74.69     \n",
       "2 226-31-3081 C      Normal        Female Electronic accessories 15.28     \n",
       "3 631-41-3108 A      Normal        Male   Home and lifestyle     46.33     \n",
       "4 123-19-1176 A      Member        Male   Health and beauty      58.22     \n",
       "5 373-73-7910 A      Normal        Male   Sports and travel      86.31     \n",
       "6 699-14-3026 C      Normal        Male   Electronic accessories 85.39     \n",
       "  Quantity Tax     Date      Time  Payment     cogs   gross.margin.percentage\n",
       "1 7        26.1415 1/5/2019  13:08 Ewallet     522.83 4.761905               \n",
       "2 5         3.8200 3/8/2019  10:29 Cash         76.40 4.761905               \n",
       "3 7        16.2155 3/3/2019  13:23 Credit card 324.31 4.761905               \n",
       "4 8        23.2880 1/27/2019 20:33 Ewallet     465.76 4.761905               \n",
       "5 7        30.2085 2/8/2019  10:37 Ewallet     604.17 4.761905               \n",
       "6 7        29.8865 3/25/2019 18:30 Ewallet     597.73 4.761905               \n",
       "  gross.income Rating Total   \n",
       "1 26.1415      9.1    548.9715\n",
       "2  3.8200      9.6     80.2200\n",
       "3 16.2155      7.4    340.5255\n",
       "4 23.2880      8.4    489.0480\n",
       "5 30.2085      5.3    634.3785\n",
       "6 29.8865      4.1    627.6165"
      ]
     },
     "metadata": {},
     "output_type": "display_data"
    }
   ],
   "source": [
    "head(dimension)"
   ]
  },
  {
   "cell_type": "code",
   "execution_count": 86,
   "metadata": {
    "ExecuteTime": {
     "end_time": "2020-03-17T18:45:29.949398Z",
     "start_time": "2020-03-17T18:45:27.930Z"
    },
    "scrolled": false
   },
   "outputs": [
    {
     "data": {
      "image/png": "[encoded data removed]",
      "text/plain": [
       "Plot with title \"Gender\""
      ]
     },
     "metadata": {},
     "output_type": "display_data"
    },
    {
     "data": {
      "image/png": "[encoded data removed]",
      "text/plain": [
       "Plot with title \"Payment\""
      ]
     },
     "metadata": {},
     "output_type": "display_data"
    }
   ],
   "source": [
    "dim_character <- dimension[,c(2,3,4,5,11)]\n",
    "\n",
    "\n",
    "par(mfrow=c(3,1))\n",
    "for(i in 1:5){\n",
    "    character_counts <- table(dim_character[,i])\n",
    "    barplot(character_counts,main=names(dim_character)[i],col=topo.colors(10),horiz=TRUE)\n",
    "}"
   ]
  },
  {
   "cell_type": "markdown",
   "metadata": {},
   "source": [
    "* It appears that the counts between male and female customers is near equal with the same holding true for normal vs member customers\n",
    "* It also appears the most popular branch is branch A followed by branch B then C\n",
    "* let's take a closer look at the payment and product.line columns separately "
   ]
  },
  {
   "cell_type": "code",
   "execution_count": 87,
   "metadata": {
    "ExecuteTime": {
     "end_time": "2020-03-17T18:45:30.041152Z",
     "start_time": "2020-03-17T18:45:27.934Z"
    }
   },
   "outputs": [
    {
     "data": {
      "image/png": "[encoded data removed]",
      "text/plain": [
       "Plot with title \"frequency of payment methods\""
      ]
     },
     "metadata": {},
     "output_type": "display_data"
    }
   ],
   "source": [
    "paymentcounts <- table(dimension$Payment)\n",
    "barplot(paymentcounts,main=\"frequency of payment methods\",col=topo.colors(15))"
   ]
  },
  {
   "cell_type": "markdown",
   "metadata": {},
   "source": [
    "* It appears that the e-wallet is the most popular form of payment followed by cash then credit card"
   ]
  },
  {
   "cell_type": "code",
   "execution_count": 88,
   "metadata": {
    "ExecuteTime": {
     "end_time": "2020-03-17T18:45:30.139371Z",
     "start_time": "2020-03-17T18:45:27.942Z"
    }
   },
   "outputs": [
    {
     "data": {
      "image/png": "[encoded data removed]",
      "text/plain": [
       "Plot with title \"frequency counts of the different kinds of products\""
      ]
     },
     "metadata": {},
     "output_type": "display_data"
    }
   ],
   "source": [
    "productlinecounts <- table(dimension$Product.line)\n",
    "par(mfrow=c(1,1))\n",
    "barplot(productlinecounts,main=\"frequency counts of the different kinds of products\",\n",
    "       col= topo.colors(10),horiz=TRUE)"
   ]
  },
  {
   "cell_type": "markdown",
   "metadata": {},
   "source": [
    "* The most popular product category is Electronic accessories followed by health and beauty the sport and travel as the least popular"
   ]
  },
  {
   "cell_type": "code",
   "execution_count": 89,
   "metadata": {
    "ExecuteTime": {
     "end_time": "2020-03-17T18:45:30.362066Z",
     "start_time": "2020-03-17T18:45:27.948Z"
    }
   },
   "outputs": [
    {
     "data": {
      "image/png": "[encoded data removed]",
      "text/plain": [
       "Plot with title \"gross.income\""
      ]
     },
     "metadata": {},
     "output_type": "display_data"
    },
    {
     "data": {
      "image/png": "[encoded data removed]",
      "text/plain": [
       "Plot with title \"Total\""
      ]
     },
     "metadata": {},
     "output_type": "display_data"
    }
   ],
   "source": [
    "par(mfrow=c(2,3))\n",
    "for(i in 1:8){\n",
    "   hist(dim_numerical[,i],main = names(dim_numerical)[i],col= heat.colors(15))}"
   ]
  },
  {
   "cell_type": "markdown",
   "metadata": {},
   "source": [
    "* The distribution of the unit price column appears to be rather evenly distributed with slight peaks appearing at 20 units,between 60 and 80 units and at 100 units\n",
    "\n",
    "* In the quantity column it appears that most customers purchase 2 items with the second highest quantity being 10 items.This indicates that there are primarily 2 types of customers those who pop in to get very few items e.g milk and bread whilst there are those who come to do their weekly shopping which might consist of more general goods \n",
    "\n",
    "* The tax and cogs columns are heavily skewed to the left indicating(in the tax column's case) most products attract a tax of less than 20 units and most goods cost less than 400 units to acquire\n",
    "\n",
    "* The gross income and Total spent columns are also heavily skewed to the left indicating most products bring in less than 20 units while most consumers spend less than 400 units in store\n",
    "\n",
    "* the gross margin percentage column indicates that apparently all products have the same gross profit percentage ratio \n",
    "\n",
    "* The ratings column indicates most products have a rating of 4 indicating the skewness to the left observed and somewhat normal distribution after that.It appears that the data has a somewhat multimodal distribution  "
   ]
  },
  {
   "cell_type": "code",
   "execution_count": 90,
   "metadata": {
    "ExecuteTime": {
     "end_time": "2020-03-17T18:45:30.466077Z",
     "start_time": "2020-03-17T18:45:27.955Z"
    }
   },
   "outputs": [
    {
     "data": {
      "image/png": "[encoded data removed]",
      "text/plain": [
       "Plot with title \"histogram of daily sales\""
      ]
     },
     "metadata": {},
     "output_type": "display_data"
    }
   ],
   "source": [
    "hist(anomalies$Sales,main=\"histogram of daily sales\",col = heat.colors(15),xlab= \"Sales\")"
   ]
  },
  {
   "cell_type": "markdown",
   "metadata": {},
   "source": [
    "* The sales column is heavily skewed to the left with most sales being under 200 units"
   ]
  },
  {
   "cell_type": "markdown",
   "metadata": {},
   "source": [
    "## Bivariate Analysis"
   ]
  },
  {
   "cell_type": "code",
   "execution_count": 91,
   "metadata": {
    "ExecuteTime": {
     "end_time": "2020-03-17T18:45:30.650227Z",
     "start_time": "2020-03-17T18:45:27.962Z"
    }
   },
   "outputs": [
    {
     "data": {
      "image/png": "[encoded data removed]",
      "text/plain": [
       "plot without title"
      ]
     },
     "metadata": {},
     "output_type": "display_data"
    }
   ],
   "source": [
    "plot(Total~Quantity,dat=dim_numerical,col=topo.colors(1200))"
   ]
  },
  {
   "cell_type": "markdown",
   "metadata": {},
   "source": [
    "* The trend observed is one of linearly "
   ]
  },
  {
   "cell_type": "code",
   "execution_count": 92,
   "metadata": {
    "ExecuteTime": {
     "end_time": "2020-03-17T18:45:30.845755Z",
     "start_time": "2020-03-17T18:45:27.967Z"
    }
   },
   "outputs": [
    {
     "data": {
      "image/png": "[encoded data removed]",
      "text/plain": [
       "plot without title"
      ]
     },
     "metadata": {},
     "output_type": "display_data"
    }
   ],
   "source": [
    "plot(Tax~Total,dat=dim_numerical,col=topo.colors(1200))"
   ]
  },
  {
   "cell_type": "markdown",
   "metadata": {},
   "source": [
    "* The total amount spent and the tax charged appear to be heavily linearly correlated with each other"
   ]
  },
  {
   "cell_type": "code",
   "execution_count": 93,
   "metadata": {
    "ExecuteTime": {
     "end_time": "2020-03-17T18:45:31.034628Z",
     "start_time": "2020-03-17T18:45:27.971Z"
    },
    "scrolled": false
   },
   "outputs": [
    {
     "data": {
      "image/png": "[encoded data removed]",
      "text/plain": [
       "plot without title"
      ]
     },
     "metadata": {},
     "output_type": "display_data"
    }
   ],
   "source": [
    "plot(gross.income~cogs,dat=dim_numerical,col=heat.colors(1200))"
   ]
  },
  {
   "cell_type": "markdown",
   "metadata": {},
   "source": [
    "* The gross income and cost of goods sold are heavily linearly correlated with each other"
   ]
  },
  {
   "cell_type": "code",
   "execution_count": 94,
   "metadata": {
    "ExecuteTime": {
     "end_time": "2020-03-17T18:45:31.265501Z",
     "start_time": "2020-03-17T18:45:27.975Z"
    },
    "scrolled": false
   },
   "outputs": [
    {
     "name": "stderr",
     "output_type": "stream",
     "text": [
      "Warning message in cor(dim_numerical):\n",
      "\"the standard deviation is zero\""
     ]
    },
    {
     "data": {
      "image/png": "[encoded data removed]",
      "text/plain": [
       "Plot with title \"\""
      ]
     },
     "metadata": {},
     "output_type": "display_data"
    }
   ],
   "source": [
    "corr <- cor(dim_numerical)\n",
    "\n",
    "corrplot(corr,method=\"pie\")"
   ]
  },
  {
   "cell_type": "markdown",
   "metadata": {},
   "source": [
    "* There are variables that are highly positively correlated in the dataset including the tax and cogs columns and the gross income and total columns \n",
    "* we will not be removing any highly correlated features as this is an exploratory learning problem where gleaming insights is the most important objective"
   ]
  },
  {
   "cell_type": "code",
   "execution_count": 95,
   "metadata": {
    "ExecuteTime": {
     "end_time": "2020-03-17T18:45:31.304397Z",
     "start_time": "2020-03-17T18:45:27.980Z"
    }
   },
   "outputs": [],
   "source": [
    "dimension$Date <- as.Date(dimension$Date,format = \"%m/%d/%Y\")\n"
   ]
  },
  {
   "cell_type": "code",
   "execution_count": 96,
   "metadata": {
    "ExecuteTime": {
     "end_time": "2020-03-17T18:45:31.357251Z",
     "start_time": "2020-03-17T18:45:27.984Z"
    }
   },
   "outputs": [
    {
     "data": {
      "text/html": [
       "<table>\n",
       "<thead><tr><th scope=col>Invoice.ID</th><th scope=col>Branch</th><th scope=col>Customer.type</th><th scope=col>Gender</th><th scope=col>Product.line</th><th scope=col>Unit.price</th><th scope=col>Quantity</th><th scope=col>Tax</th><th scope=col>Date</th><th scope=col>Time</th><th scope=col>Payment</th><th scope=col>cogs</th><th scope=col>gross.margin.percentage</th><th scope=col>gross.income</th><th scope=col>Rating</th><th scope=col>Total</th></tr></thead>\n",
       "<tbody>\n",
       "\t<tr><td>750-67-8428           </td><td>A                     </td><td>Member                </td><td>Female                </td><td>Health and beauty     </td><td>74.69                 </td><td>7                     </td><td>26.1415               </td><td>2019-01-05            </td><td>13:08                 </td><td>Ewallet               </td><td>522.83                </td><td>4.761905              </td><td>26.1415               </td><td>9.1                   </td><td>548.9715              </td></tr>\n",
       "\t<tr><td>226-31-3081           </td><td>C                     </td><td>Normal                </td><td>Female                </td><td>Electronic accessories</td><td>15.28                 </td><td>5                     </td><td> 3.8200               </td><td>2019-03-08            </td><td>10:29                 </td><td>Cash                  </td><td> 76.40                </td><td>4.761905              </td><td> 3.8200               </td><td>9.6                   </td><td> 80.2200              </td></tr>\n",
       "\t<tr><td>631-41-3108           </td><td>A                     </td><td>Normal                </td><td>Male                  </td><td>Home and lifestyle    </td><td>46.33                 </td><td>7                     </td><td>16.2155               </td><td>2019-03-03            </td><td>13:23                 </td><td>Credit card           </td><td>324.31                </td><td>4.761905              </td><td>16.2155               </td><td>7.4                   </td><td>340.5255              </td></tr>\n",
       "\t<tr><td>123-19-1176           </td><td>A                     </td><td>Member                </td><td>Male                  </td><td>Health and beauty     </td><td>58.22                 </td><td>8                     </td><td>23.2880               </td><td>2019-01-27            </td><td>20:33                 </td><td>Ewallet               </td><td>465.76                </td><td>4.761905              </td><td>23.2880               </td><td>8.4                   </td><td>489.0480              </td></tr>\n",
       "\t<tr><td>373-73-7910           </td><td>A                     </td><td>Normal                </td><td>Male                  </td><td>Sports and travel     </td><td>86.31                 </td><td>7                     </td><td>30.2085               </td><td>2019-02-08            </td><td>10:37                 </td><td>Ewallet               </td><td>604.17                </td><td>4.761905              </td><td>30.2085               </td><td>5.3                   </td><td>634.3785              </td></tr>\n",
       "\t<tr><td>699-14-3026           </td><td>C                     </td><td>Normal                </td><td>Male                  </td><td>Electronic accessories</td><td>85.39                 </td><td>7                     </td><td>29.8865               </td><td>2019-03-25            </td><td>18:30                 </td><td>Ewallet               </td><td>597.73                </td><td>4.761905              </td><td>29.8865               </td><td>4.1                   </td><td>627.6165              </td></tr>\n",
       "</tbody>\n",
       "</table>\n"
      ],
      "text/latex": [
       "\\begin{tabular}{r|llllllllllllllll}\n",
       " Invoice.ID & Branch & Customer.type & Gender & Product.line & Unit.price & Quantity & Tax & Date & Time & Payment & cogs & gross.margin.percentage & gross.income & Rating & Total\\\\\n",
       "\\hline\n",
       "\t 750-67-8428            & A                      & Member                 & Female                 & Health and beauty      & 74.69                  & 7                      & 26.1415                & 2019-01-05             & 13:08                  & Ewallet                & 522.83                 & 4.761905               & 26.1415                & 9.1                    & 548.9715              \\\\\n",
       "\t 226-31-3081            & C                      & Normal                 & Female                 & Electronic accessories & 15.28                  & 5                      &  3.8200                & 2019-03-08             & 10:29                  & Cash                   &  76.40                 & 4.761905               &  3.8200                & 9.6                    &  80.2200              \\\\\n",
       "\t 631-41-3108            & A                      & Normal                 & Male                   & Home and lifestyle     & 46.33                  & 7                      & 16.2155                & 2019-03-03             & 13:23                  & Credit card            & 324.31                 & 4.761905               & 16.2155                & 7.4                    & 340.5255              \\\\\n",
       "\t 123-19-1176            & A                      & Member                 & Male                   & Health and beauty      & 58.22                  & 8                      & 23.2880                & 2019-01-27             & 20:33                  & Ewallet                & 465.76                 & 4.761905               & 23.2880                & 8.4                    & 489.0480              \\\\\n",
       "\t 373-73-7910            & A                      & Normal                 & Male                   & Sports and travel      & 86.31                  & 7                      & 30.2085                & 2019-02-08             & 10:37                  & Ewallet                & 604.17                 & 4.761905               & 30.2085                & 5.3                    & 634.3785              \\\\\n",
       "\t 699-14-3026            & C                      & Normal                 & Male                   & Electronic accessories & 85.39                  & 7                      & 29.8865                & 2019-03-25             & 18:30                  & Ewallet                & 597.73                 & 4.761905               & 29.8865                & 4.1                    & 627.6165              \\\\\n",
       "\\end{tabular}\n"
      ],
      "text/markdown": [
       "\n",
       "| Invoice.ID | Branch | Customer.type | Gender | Product.line | Unit.price | Quantity | Tax | Date | Time | Payment | cogs | gross.margin.percentage | gross.income | Rating | Total |\n",
       "|---|---|---|---|---|---|---|---|---|---|---|---|---|---|---|---|\n",
       "| 750-67-8428            | A                      | Member                 | Female                 | Health and beauty      | 74.69                  | 7                      | 26.1415                | 2019-01-05             | 13:08                  | Ewallet                | 522.83                 | 4.761905               | 26.1415                | 9.1                    | 548.9715               |\n",
       "| 226-31-3081            | C                      | Normal                 | Female                 | Electronic accessories | 15.28                  | 5                      |  3.8200                | 2019-03-08             | 10:29                  | Cash                   |  76.40                 | 4.761905               |  3.8200                | 9.6                    |  80.2200               |\n",
       "| 631-41-3108            | A                      | Normal                 | Male                   | Home and lifestyle     | 46.33                  | 7                      | 16.2155                | 2019-03-03             | 13:23                  | Credit card            | 324.31                 | 4.761905               | 16.2155                | 7.4                    | 340.5255               |\n",
       "| 123-19-1176            | A                      | Member                 | Male                   | Health and beauty      | 58.22                  | 8                      | 23.2880                | 2019-01-27             | 20:33                  | Ewallet                | 465.76                 | 4.761905               | 23.2880                | 8.4                    | 489.0480               |\n",
       "| 373-73-7910            | A                      | Normal                 | Male                   | Sports and travel      | 86.31                  | 7                      | 30.2085                | 2019-02-08             | 10:37                  | Ewallet                | 604.17                 | 4.761905               | 30.2085                | 5.3                    | 634.3785               |\n",
       "| 699-14-3026            | C                      | Normal                 | Male                   | Electronic accessories | 85.39                  | 7                      | 29.8865                | 2019-03-25             | 18:30                  | Ewallet                | 597.73                 | 4.761905               | 29.8865                | 4.1                    | 627.6165               |\n",
       "\n"
      ],
      "text/plain": [
       "  Invoice.ID  Branch Customer.type Gender Product.line           Unit.price\n",
       "1 750-67-8428 A      Member        Female Health and beauty      74.69     \n",
       "2 226-31-3081 C      Normal        Female Electronic accessories 15.28     \n",
       "3 631-41-3108 A      Normal        Male   Home and lifestyle     46.33     \n",
       "4 123-19-1176 A      Member        Male   Health and beauty      58.22     \n",
       "5 373-73-7910 A      Normal        Male   Sports and travel      86.31     \n",
       "6 699-14-3026 C      Normal        Male   Electronic accessories 85.39     \n",
       "  Quantity Tax     Date       Time  Payment     cogs   gross.margin.percentage\n",
       "1 7        26.1415 2019-01-05 13:08 Ewallet     522.83 4.761905               \n",
       "2 5         3.8200 2019-03-08 10:29 Cash         76.40 4.761905               \n",
       "3 7        16.2155 2019-03-03 13:23 Credit card 324.31 4.761905               \n",
       "4 8        23.2880 2019-01-27 20:33 Ewallet     465.76 4.761905               \n",
       "5 7        30.2085 2019-02-08 10:37 Ewallet     604.17 4.761905               \n",
       "6 7        29.8865 2019-03-25 18:30 Ewallet     597.73 4.761905               \n",
       "  gross.income Rating Total   \n",
       "1 26.1415      9.1    548.9715\n",
       "2  3.8200      9.6     80.2200\n",
       "3 16.2155      7.4    340.5255\n",
       "4 23.2880      8.4    489.0480\n",
       "5 30.2085      5.3    634.3785\n",
       "6 29.8865      4.1    627.6165"
      ]
     },
     "metadata": {},
     "output_type": "display_data"
    }
   ],
   "source": [
    "head(dimension)"
   ]
  },
  {
   "cell_type": "code",
   "execution_count": 97,
   "metadata": {
    "ExecuteTime": {
     "end_time": "2020-03-17T18:45:34.952577Z",
     "start_time": "2020-03-17T18:45:27.988Z"
    }
   },
   "outputs": [
    {
     "data": {
      "image/png": "[encoded data removed]",
      "text/plain": [
       "plot without title"
      ]
     },
     "metadata": {},
     "output_type": "display_data"
    }
   ],
   "source": [
    "pairs(dim_numerical,labels=names(dim_numerical))"
   ]
  },
  {
   "cell_type": "markdown",
   "metadata": {},
   "source": [
    "* from the combined pairplots above you can note that most features seem to be highly positively correlated "
   ]
  },
  {
   "cell_type": "markdown",
   "metadata": {},
   "source": [
    "# Unsupervised Learning"
   ]
  },
  {
   "cell_type": "markdown",
   "metadata": {},
   "source": [
    "## Dimensionality Reduction with PCA"
   ]
  },
  {
   "cell_type": "code",
   "execution_count": 130,
   "metadata": {
    "ExecuteTime": {
     "end_time": "2020-03-17T19:49:26.996296Z",
     "start_time": "2020-03-17T19:49:26.953Z"
    }
   },
   "outputs": [],
   "source": [
    "dim_num2 <- dim_numerical[c(1,2,3,4,6,7,8)]# subsetting the numerical columns but excluding the gross margin percentage income column"
   ]
  },
  {
   "cell_type": "markdown",
   "metadata": {},
   "source": [
    "* To conduct dimensionality reduction we will first subset the columns that we will require,we will exclude the gross margin percentage column as it has little relevance in our analysis"
   ]
  },
  {
   "cell_type": "code",
   "execution_count": 99,
   "metadata": {
    "ExecuteTime": {
     "end_time": "2020-03-17T18:45:35.048324Z",
     "start_time": "2020-03-17T18:45:27.996Z"
    }
   },
   "outputs": [],
   "source": [
    "dim_pca <- prcomp(dim_num2,center= TRUE,scale = TRUE)"
   ]
  },
  {
   "cell_type": "markdown",
   "metadata": {},
   "source": [
    "* to conduct pca in r we will run the prcomp method on the subsetted dataset"
   ]
  },
  {
   "cell_type": "code",
   "execution_count": 100,
   "metadata": {
    "ExecuteTime": {
     "end_time": "2020-03-17T18:45:35.091207Z",
     "start_time": "2020-03-17T18:45:28.002Z"
    }
   },
   "outputs": [
    {
     "data": {
      "text/plain": [
       "Importance of components:\n",
       "                          PC1    PC2    PC3     PC4       PC5       PC6\n",
       "Standard deviation     2.2185 1.0002 0.9939 0.30001 3.132e-16 1.457e-16\n",
       "Proportion of Variance 0.7031 0.1429 0.1411 0.01286 0.000e+00 0.000e+00\n",
       "Cumulative Proportion  0.7031 0.8460 0.9871 1.00000 1.000e+00 1.000e+00\n",
       "                             PC7\n",
       "Standard deviation     3.219e-17\n",
       "Proportion of Variance 0.000e+00\n",
       "Cumulative Proportion  1.000e+00"
      ]
     },
     "metadata": {},
     "output_type": "display_data"
    }
   ],
   "source": [
    "summary(dim_pca)"
   ]
  },
  {
   "cell_type": "markdown",
   "metadata": {},
   "source": [
    "* above we can see that the first prinicipal component explains over 70% of the variance while the first 3 principal components explain over 98% of the observed variance"
   ]
  },
  {
   "cell_type": "code",
   "execution_count": 101,
   "metadata": {
    "ExecuteTime": {
     "end_time": "2020-03-17T18:45:35.610983Z",
     "start_time": "2020-03-17T18:45:28.009Z"
    }
   },
   "outputs": [
    {
     "data": {
      "image/png": "[encoded data removed]",
      "text/plain": [
       "plot without title"
      ]
     },
     "metadata": {},
     "output_type": "display_data"
    }
   ],
   "source": [
    "ggbiplot(dim_pca,labels=rownames(dim_pca),ellipse = TRUE,obs.scale=1,var.scale=1)"
   ]
  },
  {
   "cell_type": "code",
   "execution_count": 102,
   "metadata": {
    "ExecuteTime": {
     "end_time": "2020-03-17T18:45:36.076574Z",
     "start_time": "2020-03-17T18:45:28.013Z"
    }
   },
   "outputs": [
    {
     "data": {
      "image/png": "[encoded data removed]",
      "text/plain": [
       "plot without title"
      ]
     },
     "metadata": {},
     "output_type": "display_data"
    }
   ],
   "source": [
    "fviz_eig(dim_pca,barfill=\"cyan\")"
   ]
  },
  {
   "cell_type": "markdown",
   "metadata": {},
   "source": [
    "* the barplot of the principal compnents is a graphical representation of the observed phenomena above"
   ]
  },
  {
   "cell_type": "code",
   "execution_count": 103,
   "metadata": {
    "ExecuteTime": {
     "end_time": "2020-03-17T18:45:36.132430Z",
     "start_time": "2020-03-17T18:45:28.017Z"
    }
   },
   "outputs": [
    {
     "name": "stdout",
     "output_type": "stream",
     "text": [
      "List of 5\n",
      " $ sdev    : num [1:7] 2.22 1.00 9.94e-01 3.00e-01 3.13e-16 ...\n",
      " $ rotation: num [1:7, 1:7] -0.292 -0.325 -0.45 -0.45 -0.45 ...\n",
      "  ..- attr(*, \"dimnames\")=List of 2\n",
      "  .. ..$ : chr [1:7] \"Unit.price\" \"Quantity\" \"Tax\" \"cogs\" ...\n",
      "  .. ..$ : chr [1:7] \"PC1\" \"PC2\" \"PC3\" \"PC4\" ...\n",
      " $ center  : Named num [1:7] 55.67 5.51 15.38 307.59 15.38 ...\n",
      "  ..- attr(*, \"names\")= chr [1:7] \"Unit.price\" \"Quantity\" \"Tax\" \"cogs\" ...\n",
      " $ scale   : Named num [1:7] 26.49 2.92 11.71 234.18 11.71 ...\n",
      "  ..- attr(*, \"names\")= chr [1:7] \"Unit.price\" \"Quantity\" \"Tax\" \"cogs\" ...\n",
      " $ x       : num [1:1000, 1:7] -2.005 2.306 -0.186 -1.504 -2.8 ...\n",
      "  ..- attr(*, \"dimnames\")=List of 2\n",
      "  .. ..$ : NULL\n",
      "  .. ..$ : chr [1:7] \"PC1\" \"PC2\" \"PC3\" \"PC4\" ...\n",
      " - attr(*, \"class\")= chr \"prcomp\"\n"
     ]
    }
   ],
   "source": [
    "str(dim_pca)"
   ]
  },
  {
   "cell_type": "markdown",
   "metadata": {
    "ExecuteTime": {
     "end_time": "2020-03-15T10:47:23.122113Z",
     "start_time": "2020-03-15T10:47:06.426Z"
    }
   },
   "source": [
    "## Feature Selection"
   ]
  },
  {
   "cell_type": "code",
   "execution_count": 104,
   "metadata": {
    "ExecuteTime": {
     "end_time": "2020-03-17T18:45:36.175311Z",
     "start_time": "2020-03-17T18:45:28.021Z"
    }
   },
   "outputs": [],
   "source": [
    "highlycorrelated <- findCorrelation(cor(dim_nubm2),cutoff=0.75)"
   ]
  },
  {
   "cell_type": "markdown",
   "metadata": {},
   "source": [
    "* above we create a dataframe with the features that have a high degree of correlation"
   ]
  },
  {
   "cell_type": "code",
   "execution_count": 105,
   "metadata": {
    "ExecuteTime": {
     "end_time": "2020-03-17T18:45:36.214206Z",
     "start_time": "2020-03-17T18:45:28.026Z"
    }
   },
   "outputs": [
    {
     "data": {
      "text/html": [
       "<ol class=list-inline>\n",
       "\t<li>'cogs'</li>\n",
       "\t<li>'Total'</li>\n",
       "\t<li>'Tax'</li>\n",
       "</ol>\n"
      ],
      "text/latex": [
       "\\begin{enumerate*}\n",
       "\\item 'cogs'\n",
       "\\item 'Total'\n",
       "\\item 'Tax'\n",
       "\\end{enumerate*}\n"
      ],
      "text/markdown": [
       "1. 'cogs'\n",
       "2. 'Total'\n",
       "3. 'Tax'\n",
       "\n",
       "\n"
      ],
      "text/plain": [
       "[1] \"cogs\"  \"Total\" \"Tax\"  "
      ]
     },
     "metadata": {},
     "output_type": "display_data"
    }
   ],
   "source": [
    "names(dim_num2[,highlycorrelated])"
   ]
  },
  {
   "cell_type": "markdown",
   "metadata": {},
   "source": [
    "* it appears that the cogs,total and tax columns have the highest correlated features\n",
    "* we will continue by dropping these columns"
   ]
  },
  {
   "cell_type": "code",
   "execution_count": 131,
   "metadata": {
    "ExecuteTime": {
     "end_time": "2020-03-17T19:56:39.069242Z",
     "start_time": "2020-03-17T19:56:39.038Z"
    }
   },
   "outputs": [],
   "source": [
    "dim_numerical2 <- dim_num2[,-highlycorrelated]# dropping the correlated columns"
   ]
  },
  {
   "cell_type": "code",
   "execution_count": 107,
   "metadata": {
    "ExecuteTime": {
     "end_time": "2020-03-17T18:45:36.483248Z",
     "start_time": "2020-03-17T18:45:28.037Z"
    }
   },
   "outputs": [
    {
     "data": {
      "image/png": "[encoded data removed]",
      "text/plain": [
       "Plot with title \"\""
      ]
     },
     "metadata": {},
     "output_type": "display_data"
    }
   ],
   "source": [
    "par(mfrow = c(1,2))\n",
    "corrplot(cor(dim_num2), order = \"hclust\")\n",
    "corrplot(cor(dim_numerical2), order = \"hclust\")"
   ]
  },
  {
   "cell_type": "markdown",
   "metadata": {},
   "source": [
    "* the correlation matrix above indicates that we were succesful at identifying and removing the highly correlated features from the dataset"
   ]
  },
  {
   "cell_type": "markdown",
   "metadata": {},
   "source": [
    "## Association Rules"
   ]
  },
  {
   "cell_type": "markdown",
   "metadata": {},
   "source": [
    "* this is analysis done to see which values e.g goods are most likely to go along with each other based on previously recorded correlations of their order"
   ]
  },
  {
   "cell_type": "code",
   "execution_count": 108,
   "metadata": {
    "ExecuteTime": {
     "end_time": "2020-03-17T18:45:36.525134Z",
     "start_time": "2020-03-17T18:45:28.043Z"
    }
   },
   "outputs": [
    {
     "data": {
      "text/html": [
       "'transactions'"
      ],
      "text/latex": [
       "'transactions'"
      ],
      "text/markdown": [
       "'transactions'"
      ],
      "text/plain": [
       "[1] \"transactions\"\n",
       "attr(,\"package\")\n",
       "[1] \"arules\""
      ]
     },
     "metadata": {},
     "output_type": "display_data"
    }
   ],
   "source": [
    "class(association)"
   ]
  },
  {
   "cell_type": "markdown",
   "metadata": {},
   "source": [
    "* checking the datatypes of the dataframe"
   ]
  },
  {
   "cell_type": "code",
   "execution_count": 109,
   "metadata": {
    "ExecuteTime": {
     "end_time": "2020-03-17T18:45:36.642820Z",
     "start_time": "2020-03-17T18:45:28.047Z"
    },
    "scrolled": false
   },
   "outputs": [
    {
     "name": "stdout",
     "output_type": "stream",
     "text": [
      "    items              \n",
      "[1] {almonds,          \n",
      "     antioxydant juice,\n",
      "     avocado,          \n",
      "     cottage cheese,   \n",
      "     energy drink,     \n",
      "     frozen smoothie,  \n",
      "     green grapes,     \n",
      "     green tea,        \n",
      "     honey,            \n",
      "     low fat yogurt,   \n",
      "     mineral water,    \n",
      "     olive oil,        \n",
      "     salad,            \n",
      "     salmon,           \n",
      "     shrimp,           \n",
      "     spinach,          \n",
      "     tomato juice,     \n",
      "     vegetables mix,   \n",
      "     whole weat flour, \n",
      "     yams}             \n",
      "[2] {burgers,          \n",
      "     eggs,             \n",
      "     meatballs}        \n",
      "[3] {chutney}          \n",
      "[4] {avocado,          \n",
      "     turkey}           \n",
      "[5] {energy bar,       \n",
      "     green tea,        \n",
      "     milk,             \n",
      "     mineral water,    \n",
      "     whole wheat rice} \n"
     ]
    }
   ],
   "source": [
    "inspect(association[1:5])"
   ]
  },
  {
   "cell_type": "markdown",
   "metadata": {},
   "source": [
    "* previewing the first 5 rows"
   ]
  },
  {
   "cell_type": "code",
   "execution_count": 110,
   "metadata": {
    "ExecuteTime": {
     "end_time": "2020-03-17T18:45:36.701664Z",
     "start_time": "2020-03-17T18:45:28.051Z"
    }
   },
   "outputs": [
    {
     "data": {
      "text/html": [
       "<table>\n",
       "<thead><tr><th scope=col>item</th></tr></thead>\n",
       "<tbody>\n",
       "\t<tr><td>almonds          </td></tr>\n",
       "\t<tr><td>antioxydant juice</td></tr>\n",
       "\t<tr><td>asparagus        </td></tr>\n",
       "\t<tr><td>avocado          </td></tr>\n",
       "\t<tr><td>babies food      </td></tr>\n",
       "\t<tr><td>bacon            </td></tr>\n",
       "\t<tr><td>barbecue sauce   </td></tr>\n",
       "\t<tr><td>black tea        </td></tr>\n",
       "\t<tr><td>blueberries      </td></tr>\n",
       "\t<tr><td>body spray       </td></tr>\n",
       "</tbody>\n",
       "</table>\n"
      ],
      "text/latex": [
       "\\begin{tabular}{r|l}\n",
       " item\\\\\n",
       "\\hline\n",
       "\t almonds          \\\\\n",
       "\t antioxydant juice\\\\\n",
       "\t asparagus        \\\\\n",
       "\t avocado          \\\\\n",
       "\t babies food      \\\\\n",
       "\t bacon            \\\\\n",
       "\t barbecue sauce   \\\\\n",
       "\t black tea        \\\\\n",
       "\t blueberries      \\\\\n",
       "\t body spray       \\\\\n",
       "\\end{tabular}\n"
      ],
      "text/markdown": [
       "\n",
       "| item |\n",
       "|---|\n",
       "| almonds           |\n",
       "| antioxydant juice |\n",
       "| asparagus         |\n",
       "| avocado           |\n",
       "| babies food       |\n",
       "| bacon             |\n",
       "| barbecue sauce    |\n",
       "| black tea         |\n",
       "| blueberries       |\n",
       "| body spray        |\n",
       "\n"
      ],
      "text/plain": [
       "   item             \n",
       "1  almonds          \n",
       "2  antioxydant juice\n",
       "3  asparagus        \n",
       "4  avocado          \n",
       "5  babies food      \n",
       "6  bacon            \n",
       "7  barbecue sauce   \n",
       "8  black tea        \n",
       "9  blueberries      \n",
       "10 body spray       "
      ]
     },
     "metadata": {},
     "output_type": "display_data"
    }
   ],
   "source": [
    "items <- as.data.frame(itemLabels(association))\n",
    "colnames(items) <- \"item\"\n",
    "head(items,10)"
   ]
  },
  {
   "cell_type": "markdown",
   "metadata": {},
   "source": [
    "* previewing the items that make up our dataset"
   ]
  },
  {
   "cell_type": "code",
   "execution_count": 111,
   "metadata": {
    "ExecuteTime": {
     "end_time": "2020-03-17T18:45:36.766491Z",
     "start_time": "2020-03-17T18:45:28.055Z"
    }
   },
   "outputs": [
    {
     "data": {
      "text/plain": [
       "transactions as itemMatrix in sparse format with\n",
       " 7501 rows (elements/itemsets/transactions) and\n",
       " 119 columns (items) and a density of 0.03288973 \n",
       "\n",
       "most frequent items:\n",
       "mineral water          eggs     spaghetti  french fries     chocolate \n",
       "         1788          1348          1306          1282          1229 \n",
       "      (Other) \n",
       "        22405 \n",
       "\n",
       "element (itemset/transaction) length distribution:\n",
       "sizes\n",
       "   1    2    3    4    5    6    7    8    9   10   11   12   13   14   15   16 \n",
       "1754 1358 1044  816  667  493  391  324  259  139  102   67   40   22   17    4 \n",
       "  18   19   20 \n",
       "   1    2    1 \n",
       "\n",
       "   Min. 1st Qu.  Median    Mean 3rd Qu.    Max. \n",
       "  1.000   2.000   3.000   3.914   5.000  20.000 \n",
       "\n",
       "includes extended item information - examples:\n",
       "             labels\n",
       "1           almonds\n",
       "2 antioxydant juice\n",
       "3         asparagus"
      ]
     },
     "metadata": {},
     "output_type": "display_data"
    }
   ],
   "source": [
    "summary(association)"
   ]
  },
  {
   "cell_type": "markdown",
   "metadata": {},
   "source": [
    "* above we did a summary of the transacntions to get the most frequent transanctions\n",
    "\n",
    "* we can observe the the most frequently occuring items are mineral water,eggs and spaghetti"
   ]
  },
  {
   "cell_type": "code",
   "execution_count": 133,
   "metadata": {
    "ExecuteTime": {
     "end_time": "2020-03-17T20:13:15.579809Z",
     "start_time": "2020-03-17T20:13:15.512Z"
    }
   },
   "outputs": [
    {
     "data": {
      "text/html": [
       "<dl class=dl-horizontal>\n",
       "\t<dt>black tea</dt>\n",
       "\t\t<dd>107</dd>\n",
       "\t<dt>blueberries</dt>\n",
       "\t\t<dd>69</dd>\n",
       "\t<dt>body spray</dt>\n",
       "\t\t<dd>86</dd>\n",
       "</dl>\n"
      ],
      "text/latex": [
       "\\begin{description*}\n",
       "\\item[black tea] 107\n",
       "\\item[blueberries] 69\n",
       "\\item[body spray] 86\n",
       "\\end{description*}\n"
      ],
      "text/markdown": [
       "black tea\n",
       ":   107blueberries\n",
       ":   69body spray\n",
       ":   86\n",
       "\n"
      ],
      "text/plain": [
       "  black tea blueberries  body spray \n",
       "        107          69          86 "
      ]
     },
     "metadata": {},
     "output_type": "display_data"
    }
   ],
   "source": [
    "itemFrequency(association[,8:10],type= \"absolute\")"
   ]
  },
  {
   "cell_type": "markdown",
   "metadata": {},
   "source": [
    "* checking the frequency of the items ranging from transaction 8-10 in absolute terms"
   ]
  },
  {
   "cell_type": "code",
   "execution_count": 113,
   "metadata": {
    "ExecuteTime": {
     "end_time": "2020-03-17T18:45:36.871209Z",
     "start_time": "2020-03-17T18:45:28.062Z"
    }
   },
   "outputs": [
    {
     "data": {
      "text/html": [
       "<dl class=dl-horizontal>\n",
       "\t<dt>black tea</dt>\n",
       "\t\t<dd>1.43</dd>\n",
       "\t<dt>blueberries</dt>\n",
       "\t\t<dd>0.92</dd>\n",
       "\t<dt>body spray</dt>\n",
       "\t\t<dd>1.15</dd>\n",
       "</dl>\n"
      ],
      "text/latex": [
       "\\begin{description*}\n",
       "\\item[black tea] 1.43\n",
       "\\item[blueberries] 0.92\n",
       "\\item[body spray] 1.15\n",
       "\\end{description*}\n"
      ],
      "text/markdown": [
       "black tea\n",
       ":   1.43blueberries\n",
       ":   0.92body spray\n",
       ":   1.15\n",
       "\n"
      ],
      "text/plain": [
       "  black tea blueberries  body spray \n",
       "       1.43        0.92        1.15 "
      ]
     },
     "metadata": {},
     "output_type": "display_data"
    }
   ],
   "source": [
    "round(itemFrequency(association[,8:10],type=\"relative\") *100,2)"
   ]
  },
  {
   "cell_type": "markdown",
   "metadata": {},
   "source": [
    "* checking the most frequent items from transaction 8-10 in relative terms"
   ]
  },
  {
   "cell_type": "code",
   "execution_count": 114,
   "metadata": {
    "ExecuteTime": {
     "end_time": "2020-03-17T18:45:37.041755Z",
     "start_time": "2020-03-17T18:45:28.066Z"
    }
   },
   "outputs": [
    {
     "data": {
      "image/png": "[encoded data removed]",
      "text/plain": [
       "plot without title"
      ]
     },
     "metadata": {},
     "output_type": "display_data"
    }
   ],
   "source": [
    "par(mfrow=c(1, 1))\n",
    "\n",
    "itemFrequencyPlot(association,topN = 10,col=heat.colors(12))"
   ]
  },
  {
   "cell_type": "markdown",
   "metadata": {},
   "source": [
    "* above is a frequency barplot of the most frequently occuring and most important transanctions in the dataset"
   ]
  },
  {
   "cell_type": "code",
   "execution_count": 128,
   "metadata": {
    "ExecuteTime": {
     "end_time": "2020-03-17T19:41:53.417670Z",
     "start_time": "2020-03-17T19:41:53.268Z"
    }
   },
   "outputs": [
    {
     "data": {
      "image/png": "[encoded data removed]",
      "text/plain": [
       "plot without title"
      ]
     },
     "metadata": {},
     "output_type": "display_data"
    }
   ],
   "source": [
    "itemFrequencyPlot(association,support=0.1,col=topo.colors(15))"
   ]
  },
  {
   "cell_type": "code",
   "execution_count": 134,
   "metadata": {
    "ExecuteTime": {
     "end_time": "2020-03-17T20:24:59.912843Z",
     "start_time": "2020-03-17T20:24:59.811Z"
    },
    "scrolled": false
   },
   "outputs": [
    {
     "name": "stdout",
     "output_type": "stream",
     "text": [
      "Apriori\n",
      "\n",
      "Parameter specification:\n",
      " confidence minval smax arem  aval originalSupport maxtime support minlen\n",
      "        0.8    0.1    1 none FALSE            TRUE       5   0.001      1\n",
      " maxlen target   ext\n",
      "     10  rules FALSE\n",
      "\n",
      "Algorithmic control:\n",
      " filter tree heap memopt load sort verbose\n",
      "    0.1 TRUE TRUE  FALSE TRUE    2    TRUE\n",
      "\n",
      "Absolute minimum support count: 7 \n",
      "\n",
      "set item appearances ...[0 item(s)] done [0.00s].\n",
      "set transactions ...[119 item(s), 7501 transaction(s)] done [0.00s].\n",
      "sorting and recoding items ... [116 item(s)] done [0.00s].\n",
      "creating transaction tree ... done [0.00s].\n",
      "checking subsets of size 1 2 3 4 5 6 done [0.01s].\n",
      "writing ... [74 rule(s)] done [0.00s].\n",
      "creating S4 object  ... done [0.00s].\n"
     ]
    },
    {
     "data": {
      "text/plain": [
       "set of 74 rules "
      ]
     },
     "metadata": {},
     "output_type": "display_data"
    }
   ],
   "source": [
    "rules <- apriori(association,parameter=list(supp=0.001,conf=0.8))# using the apriori method to build a model based on association rules\n",
    "rules"
   ]
  },
  {
   "cell_type": "markdown",
   "metadata": {},
   "source": [
    "* from the model we have discovered 74 rules using a confidence levelof 0.8 and a support of 0.001"
   ]
  },
  {
   "cell_type": "code",
   "execution_count": 135,
   "metadata": {
    "ExecuteTime": {
     "end_time": "2020-03-17T20:25:03.206038Z",
     "start_time": "2020-03-17T20:25:03.128Z"
    }
   },
   "outputs": [
    {
     "data": {
      "text/plain": [
       "set of 74 rules\n",
       "\n",
       "rule length distribution (lhs + rhs):sizes\n",
       " 3  4  5  6 \n",
       "15 42 16  1 \n",
       "\n",
       "   Min. 1st Qu.  Median    Mean 3rd Qu.    Max. \n",
       "  3.000   4.000   4.000   4.041   4.000   6.000 \n",
       "\n",
       "summary of quality measures:\n",
       "    support           confidence          lift            count       \n",
       " Min.   :0.001067   Min.   :0.8000   Min.   : 3.356   Min.   : 8.000  \n",
       " 1st Qu.:0.001067   1st Qu.:0.8000   1st Qu.: 3.432   1st Qu.: 8.000  \n",
       " Median :0.001133   Median :0.8333   Median : 3.795   Median : 8.500  \n",
       " Mean   :0.001256   Mean   :0.8504   Mean   : 4.823   Mean   : 9.419  \n",
       " 3rd Qu.:0.001333   3rd Qu.:0.8889   3rd Qu.: 4.877   3rd Qu.:10.000  \n",
       " Max.   :0.002533   Max.   :1.0000   Max.   :12.722   Max.   :19.000  \n",
       "\n",
       "mining info:\n",
       "        data ntransactions support confidence\n",
       " association          7501   0.001        0.8"
      ]
     },
     "metadata": {},
     "output_type": "display_data"
    }
   ],
   "source": [
    "summary(rules)"
   ]
  },
  {
   "cell_type": "markdown",
   "metadata": {},
   "source": [
    "* obtaining a summary of the results "
   ]
  },
  {
   "cell_type": "code",
   "execution_count": 136,
   "metadata": {
    "ExecuteTime": {
     "end_time": "2020-03-17T20:25:09.329062Z",
     "start_time": "2020-03-17T20:25:09.278Z"
    }
   },
   "outputs": [
    {
     "name": "stdout",
     "output_type": "stream",
     "text": [
      "    lhs                             rhs             support     confidence\n",
      "[1] {frozen smoothie,spinach}    => {mineral water} 0.001066524 0.8888889 \n",
      "[2] {bacon,pancakes}             => {spaghetti}     0.001733102 0.8125000 \n",
      "[3] {nonfat milk,turkey}         => {mineral water} 0.001199840 0.8181818 \n",
      "[4] {ground beef,nonfat milk}    => {mineral water} 0.001599787 0.8571429 \n",
      "[5] {mushroom cream sauce,pasta} => {escalope}      0.002532996 0.9500000 \n",
      "    lift      count\n",
      "[1]  3.729058  8   \n",
      "[2]  4.666587 13   \n",
      "[3]  3.432428  9   \n",
      "[4]  3.595877 12   \n",
      "[5] 11.976387 19   \n"
     ]
    }
   ],
   "source": [
    "inspect(rules[1:5])"
   ]
  },
  {
   "cell_type": "markdown",
   "metadata": {},
   "source": [
    "* upon inspecting the rules we can observe that the first one simply says that a person is 88% likely to buy mineral water if they have bought a frozen smoothie and spinach"
   ]
  },
  {
   "cell_type": "code",
   "execution_count": 137,
   "metadata": {
    "ExecuteTime": {
     "end_time": "2020-03-17T20:25:12.828232Z",
     "start_time": "2020-03-17T20:25:12.771Z"
    }
   },
   "outputs": [
    {
     "name": "stdout",
     "output_type": "stream",
     "text": [
      "    lhs                                          rhs             support    \n",
      "[1] {french fries,mushroom cream sauce,pasta} => {escalope}      0.001066524\n",
      "[2] {ground beef,light cream,olive oil}       => {mineral water} 0.001199840\n",
      "[3] {cake,meatballs,mineral water}            => {milk}          0.001066524\n",
      "[4] {cake,olive oil,shrimp}                   => {mineral water} 0.001199840\n",
      "[5] {mushroom cream sauce,pasta}              => {escalope}      0.002532996\n",
      "    confidence lift      count\n",
      "[1] 1.00       12.606723  8   \n",
      "[2] 1.00        4.195190  9   \n",
      "[3] 1.00        7.717078  8   \n",
      "[4] 1.00        4.195190  9   \n",
      "[5] 0.95       11.976387 19   \n"
     ]
    }
   ],
   "source": [
    "rules <- sort(rules,by=\"confidence\",decreasing = TRUE)\n",
    "inspect(rules[1:5])"
   ]
  },
  {
   "cell_type": "markdown",
   "metadata": {},
   "source": [
    "* the given rules above have a confidence of 100 which is about as good as it gets\n",
    "* what this means is that the above rules have a 100% chance of occuring as stated e.g there is a 100% chance that a person is likely to buy mineral water if they bought cake,olive oil and shrimp"
   ]
  },
  {
   "cell_type": "markdown",
   "metadata": {},
   "source": [
    "### Testing"
   ]
  },
  {
   "cell_type": "code",
   "execution_count": 138,
   "metadata": {
    "ExecuteTime": {
     "end_time": "2020-03-17T20:25:16.955513Z",
     "start_time": "2020-03-17T20:25:16.880Z"
    }
   },
   "outputs": [
    {
     "name": "stdout",
     "output_type": "stream",
     "text": [
      "    lhs                    rhs             support confidence     lift count\n",
      "[1] {light cream,                                                           \n",
      "     mineral water,                                                         \n",
      "     shrimp}            => {spaghetti} 0.001066524  0.8888889 5.105326     8\n",
      "[2] {ground beef,                                                           \n",
      "     salmon,                                                                \n",
      "     shrimp}            => {spaghetti} 0.001066524  0.8888889 5.105326     8\n",
      "[3] {burgers,                                                               \n",
      "     milk,                                                                  \n",
      "     salmon}            => {spaghetti} 0.001066524  0.8888889 5.105326     8\n",
      "[4] {frozen vegetables,                                                     \n",
      "     ground beef,                                                           \n",
      "     mineral water,                                                         \n",
      "     shrimp}            => {spaghetti} 0.001733102  0.8666667 4.977693    13\n",
      "[5] {burgers,                                                               \n",
      "     frozen vegetables,                                                     \n",
      "     pancakes}          => {spaghetti} 0.001466471  0.8461538 4.859877    11\n"
     ]
    }
   ],
   "source": [
    "spaghetti <- subset(rules,subset=rhs %pin% \"spaghetti\")\n",
    "\n",
    "spaghetti <-sort(spaghetti,by=\"confidence\",decreasing=TRUE)\n",
    "inspect(spaghetti[1:5])"
   ]
  },
  {
   "cell_type": "markdown",
   "metadata": {},
   "source": [
    "* testing out the model by giving it a value in this case spaghetti and seeing what they were most likely to buy before buying spaghetti"
   ]
  },
  {
   "cell_type": "code",
   "execution_count": 148,
   "metadata": {
    "ExecuteTime": {
     "end_time": "2020-03-17T20:26:19.071150Z",
     "start_time": "2020-03-17T20:26:18.985Z"
    }
   },
   "outputs": [
    {
     "name": "stdout",
     "output_type": "stream",
     "text": [
      "    lhs                    rhs                 support confidence     lift count\n",
      "[1] {cake,                                                                      \n",
      "     olive oil,                                                                 \n",
      "     shrimp}            => {mineral water} 0.001199840  1.0000000 4.195190     9\n",
      "[2] {chocolate,                                                                 \n",
      "     frozen vegetables,                                                         \n",
      "     olive oil,                                                                 \n",
      "     shrimp}            => {mineral water} 0.001199840  0.9000000 3.775671     9\n",
      "[3] {light cream,                                                               \n",
      "     mineral water,                                                             \n",
      "     shrimp}            => {spaghetti}     0.001066524  0.8888889 5.105326     8\n",
      "[4] {ground beef,                                                               \n",
      "     salmon,                                                                    \n",
      "     shrimp}            => {spaghetti}     0.001066524  0.8888889 5.105326     8\n",
      "[5] {escalope,                                                                  \n",
      "     french fries,                                                              \n",
      "     shrimp}            => {chocolate}     0.001066524  0.8888889 5.425188     8\n"
     ]
    }
   ],
   "source": [
    "shrimp <- subset(rules,subset=lhs %pin% \"shrimp\")\n",
    "\n",
    "shrimp <-sort(shrimp,by=\"confidence\",decreasing=TRUE)\n",
    "inspect(shrimp[1:5])"
   ]
  },
  {
   "cell_type": "markdown",
   "metadata": {},
   "source": [
    "* the above one is testing what a customer might buy if they bought in this case shrimp"
   ]
  },
  {
   "cell_type": "markdown",
   "metadata": {},
   "source": [
    "## Anomaly Detection"
   ]
  },
  {
   "cell_type": "code",
   "execution_count": 122,
   "metadata": {
    "ExecuteTime": {
     "end_time": "2020-03-17T18:45:37.626193Z",
     "start_time": "2020-03-17T18:45:28.098Z"
    }
   },
   "outputs": [],
   "source": [
    "anomalies$Date <- as.Date(anomalies$Date)"
   ]
  },
  {
   "cell_type": "code",
   "execution_count": 123,
   "metadata": {
    "ExecuteTime": {
     "end_time": "2020-03-17T18:45:37.665087Z",
     "start_time": "2020-03-17T18:45:28.102Z"
    }
   },
   "outputs": [],
   "source": [
    "anomalies <- as_tibble(anomalies)"
   ]
  },
  {
   "cell_type": "code",
   "execution_count": 124,
   "metadata": {
    "ExecuteTime": {
     "end_time": "2020-03-17T18:45:37.705977Z",
     "start_time": "2020-03-17T18:45:28.106Z"
    }
   },
   "outputs": [
    {
     "data": {
      "text/html": [
       "<ol class=list-inline>\n",
       "\t<li>'tbl_df'</li>\n",
       "\t<li>'tbl'</li>\n",
       "\t<li>'data.frame'</li>\n",
       "</ol>\n"
      ],
      "text/latex": [
       "\\begin{enumerate*}\n",
       "\\item 'tbl\\_df'\n",
       "\\item 'tbl'\n",
       "\\item 'data.frame'\n",
       "\\end{enumerate*}\n"
      ],
      "text/markdown": [
       "1. 'tbl_df'\n",
       "2. 'tbl'\n",
       "3. 'data.frame'\n",
       "\n",
       "\n"
      ],
      "text/plain": [
       "[1] \"tbl_df\"     \"tbl\"        \"data.frame\""
      ]
     },
     "metadata": {},
     "output_type": "display_data"
    }
   ],
   "source": [
    "class(anomalies)"
   ]
  },
  {
   "cell_type": "code",
   "execution_count": 125,
   "metadata": {
    "ExecuteTime": {
     "end_time": "2020-03-17T18:45:37.746869Z",
     "start_time": "2020-03-17T18:45:28.110Z"
    }
   },
   "outputs": [],
   "source": [
    "anomalies <- anomalies %>%\n",
    "                    tibbletime::as_tbl_time(index = Date)\n"
   ]
  },
  {
   "cell_type": "code",
   "execution_count": 126,
   "metadata": {
    "ExecuteTime": {
     "end_time": "2020-03-17T18:45:37.799727Z",
     "start_time": "2020-03-17T18:45:28.114Z"
    }
   },
   "outputs": [
    {
     "data": {
      "text/html": [
       "<table>\n",
       "<thead><tr><th scope=col>Date</th><th scope=col>Sales</th></tr></thead>\n",
       "<tbody>\n",
       "\t<tr><td>0001-05-20</td><td>548.9715  </td></tr>\n",
       "\t<tr><td>0003-08-20</td><td> 80.2200  </td></tr>\n",
       "\t<tr><td>0003-03-20</td><td>340.5255  </td></tr>\n",
       "\t<tr><td>NA      </td><td>489.0480</td></tr>\n",
       "\t<tr><td>0002-08-20</td><td>634.3785  </td></tr>\n",
       "\t<tr><td>NA      </td><td>627.6165</td></tr>\n",
       "</tbody>\n",
       "</table>\n"
      ],
      "text/latex": [
       "\\begin{tabular}{r|ll}\n",
       " Date & Sales\\\\\n",
       "\\hline\n",
       "\t 0001-05-20 & 548.9715  \\\\\n",
       "\t 0003-08-20 &  80.2200  \\\\\n",
       "\t 0003-03-20 & 340.5255  \\\\\n",
       "\t NA       & 489.0480\\\\\n",
       "\t 0002-08-20 & 634.3785  \\\\\n",
       "\t NA       & 627.6165\\\\\n",
       "\\end{tabular}\n"
      ],
      "text/markdown": [
       "\n",
       "| Date | Sales |\n",
       "|---|---|\n",
       "| 0001-05-20 | 548.9715   |\n",
       "| 0003-08-20 |  80.2200   |\n",
       "| 0003-03-20 | 340.5255   |\n",
       "| NA       | 489.0480 |\n",
       "| 0002-08-20 | 634.3785   |\n",
       "| NA       | 627.6165 |\n",
       "\n"
      ],
      "text/plain": [
       "  Date       Sales   \n",
       "1 0001-05-20 548.9715\n",
       "2 0003-08-20  80.2200\n",
       "3 0003-03-20 340.5255\n",
       "4 <NA>       489.0480\n",
       "5 0002-08-20 634.3785\n",
       "6 <NA>       627.6165"
      ]
     },
     "metadata": {},
     "output_type": "display_data"
    }
   ],
   "source": [
    "head(anomalies)"
   ]
  },
  {
   "cell_type": "code",
   "execution_count": 127,
   "metadata": {
    "ExecuteTime": {
     "end_time": "2020-03-17T18:45:37.920479Z",
     "start_time": "2020-03-17T18:45:28.117Z"
    }
   },
   "outputs": [
    {
     "ename": "ERROR",
     "evalue": "Error in try.xts(x, error = \"'x' needs to be timeBased or xtsible\"): 'x' needs to be timeBased or xtsible\n",
     "output_type": "error",
     "traceback": [
      "Error in try.xts(x, error = \"'x' needs to be timeBased or xtsible\"): 'x' needs to be timeBased or xtsible\nTraceback:\n",
      "1. anomalies %>% time_decompose(Date) %>% anomalize(remainder) %>% \n .     time_recompose() %>% plot_anomalies(time_recomposed = TRUE, \n .     ncol = 3, alpha_dots = 0.5)",
      "2. withVisible(eval(quote(`_fseq`(`_lhs`)), env, env))",
      "3. eval(quote(`_fseq`(`_lhs`)), env, env)",
      "4. eval(quote(`_fseq`(`_lhs`)), env, env)",
      "5. `_fseq`(`_lhs`)",
      "6. freduce(value, `_function_list`)",
      "7. function_list[[i]](value)",
      "8. time_decompose(., Date)",
      "9. time_decompose.tbl_time(., Date)",
      "10. data %>% decompose_stl(!!target_expr, frequency = frequency, \n  .     trend = trend, message = message, ...)",
      "11. withVisible(eval(quote(`_fseq`(`_lhs`)), env, env))",
      "12. eval(quote(`_fseq`(`_lhs`)), env, env)",
      "13. eval(quote(`_fseq`(`_lhs`)), env, env)",
      "14. `_fseq`(`_lhs`)",
      "15. freduce(value, `_function_list`)",
      "16. withVisible(function_list[[k]](value))",
      "17. function_list[[k]](value)",
      "18. decompose_stl(., !!target_expr, frequency = frequency, trend = trend, \n  .     message = message, ...)",
      "19. time_frequency(data, period = frequency, message = message)",
      "20. data %>% tibbletime::get_index_col() %>% timetk::tk_get_timeseries_summary()",
      "21. withVisible(eval(quote(`_fseq`(`_lhs`)), env, env))",
      "22. eval(quote(`_fseq`(`_lhs`)), env, env)",
      "23. eval(quote(`_fseq`(`_lhs`)), env, env)",
      "24. `_fseq`(`_lhs`)",
      "25. freduce(value, `_function_list`)",
      "26. withVisible(function_list[[k]](value))",
      "27. function_list[[k]](value)",
      "28. timetk::tk_get_timeseries_summary(.)",
      "29. tk_get_timeseries_summary.Date(.)",
      "30. get_timeseries_summary_date(idx)",
      "31. xts::periodicity(idx)",
      "32. try.xts(x, error = \"'x' needs to be timeBased or xtsible\")",
      "33. stop(error)"
     ]
    }
   ],
   "source": [
    "anomalies %>%\n",
    "    time_decompose(Date) %>%\n",
    "    anomalize(remainder) %>%\n",
    "    time_recompose() %>%\n",
    "    plot_anomalies(time_recomposed = TRUE, ncol = 3, alpha_dots = 0.5)\n",
    "\n"
   ]
  },
  {
   "cell_type": "code",
   "execution_count": null,
   "metadata": {
    "ExecuteTime": {
     "end_time": "2020-03-17T18:45:37.927459Z",
     "start_time": "2020-03-17T18:45:28.120Z"
    }
   },
   "outputs": [],
   "source": [
    "class(anomalies)"
   ]
  },
  {
   "cell_type": "code",
   "execution_count": null,
   "metadata": {
    "ExecuteTime": {
     "end_time": "2020-03-17T18:45:37.932472Z",
     "start_time": "2020-03-17T18:45:28.124Z"
    }
   },
   "outputs": [],
   "source": [
    "anomalize(anomalies)"
   ]
  }
 ],
 "metadata": {
  "kernelspec": {
   "display_name": "R",
   "language": "R",
   "name": "ir"
  },
  "language_info": {
   "codemirror_mode": "r",
   "file_extension": ".r",
   "mimetype": "text/x-r-source",
   "name": "R",
   "pygments_lexer": "r",
   "version": "3.6.1"
  },
  "toc": {
   "base_numbering": 1,
   "nav_menu": {},
   "number_sections": true,
   "sideBar": true,
   "skip_h1_title": false,
   "title_cell": "Table of Contents",
   "title_sidebar": "Contents",
   "toc_cell": false,
   "toc_position": {
    "height": "calc(100% - 180px)",
    "left": "10px",
    "top": "150px",
    "width": "324.583px"
   },
   "toc_section_display": true,
   "toc_window_display": true
  },
  "varInspector": {
   "cols": {
    "lenName": 16,
    "lenType": 16,
    "lenVar": 40
   },
   "kernels_config": {
    "python": {
     "delete_cmd_postfix": "",
     "delete_cmd_prefix": "del ",
     "library": "var_list.py",
     "varRefreshCmd": "print(var_dic_list())"
    },
    "r": {
     "delete_cmd_postfix": ") ",
     "delete_cmd_prefix": "rm(",
     "library": "var_list.r",
     "varRefreshCmd": "cat(var_dic_list()) "
    }
   },
   "types_to_exclude": [
    "module",
    "function",
    "builtin_function_or_method",
    "instance",
    "_Feature"
   ],
   "window_display": false
  }
 },
 "nbformat": 4,
 "nbformat_minor": 2
}
